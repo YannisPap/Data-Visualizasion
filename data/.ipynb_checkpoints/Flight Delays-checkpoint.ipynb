{
 "cells": [
  {
   "cell_type": "code",
   "execution_count": 2,
   "metadata": {
    "collapsed": false,
    "deletable": true,
    "editable": true
   },
   "outputs": [],
   "source": [
    "import pandas as pd"
   ]
  },
  {
   "cell_type": "code",
   "execution_count": 3,
   "metadata": {
    "collapsed": false,
    "deletable": true,
    "editable": true
   },
   "outputs": [],
   "source": [
    "delays = pd.read_csv('flights.csv')\n",
    "\n",
    "delays = delays[[\n",
    "    'year', 'airport', 'arr_flights', 'carrier_ct', ' weather_ct', 'nas_ct',\n",
    "    'security_ct', 'late_aircraft_ct'\n",
    "]].groupby(by=['year', 'airport']).sum().reset_index()"
   ]
  },
  {
   "cell_type": "code",
   "execution_count": 4,
   "metadata": {
    "collapsed": false,
    "deletable": true,
    "editable": true
   },
   "outputs": [],
   "source": [
    "causes = delays.copy()\n",
    "for i in range(3, 8):\n",
    "    causes.iloc[:, i] = 100 * causes.iloc[:, i] / causes['arr_flights']\n",
    "\n",
    "causes = causes.drop('arr_flights', axis=1)\n",
    "\n",
    "causes.columns = [\n",
    "    'Year', 'Airport', 'Air Carrier Delay', 'Extreme Weather Delay',\n",
    "    'NAS Delay', 'Security Delay', 'Aircraft Arriving Late'\n",
    "]\n",
    "\n",
    "causes = causes.melt(\n",
    "    id_vars=['Year', 'Airport'], var_name='Cause', value_name='Delays (%)')\n",
    "\n",
    "causes.to_csv('causes.csv')"
   ]
  },
  {
   "cell_type": "code",
   "execution_count": 72,
   "metadata": {
    "collapsed": false,
    "deletable": true,
    "editable": true
   },
   "outputs": [],
   "source": [
    "total = delays.groupby(by='airport').sum().reset_index().drop('year', axis=1)\n",
    "\n",
    "for i in range(2, 7):\n",
    "    total.iloc[:, i] = 100 * total.iloc[:, i] / total['arr_flights']\n",
    "\n",
    "total = total.drop('arr_flights', axis=1)\n",
    "\n",
    "total.columns = [\n",
    "        'Airport', 'Air Carrier Delay', 'Extreme Weather Delay', 'NAS Delay',\n",
    "        'Security Delay', 'Aircraft Arriving Late'\n",
    "    ]\n",
    "\n",
    "total = total.melt(\n",
    "        id_vars='Airport', var_name='Cause', value_name='Delays (%)')\n",
    "\n",
    "total.to_csv('total.csv')"
   ]
  },
  {
   "cell_type": "code",
   "execution_count": 73,
   "metadata": {
    "collapsed": false
   },
   "outputs": [],
   "source": [
    "by_year = delays.copy()"
   ]
  },
  {
   "cell_type": "code",
   "execution_count": 74,
   "metadata": {
    "collapsed": false
   },
   "outputs": [],
   "source": [
    "by_year = by_year.groupby(by='year', as_index=False).sum()"
   ]
  },
  {
   "cell_type": "code",
   "execution_count": 76,
   "metadata": {
    "collapsed": false
   },
   "outputs": [],
   "source": [
    "by_year['Air Carrier Delay'] = 100*by_year.carrier_ct/by_year.arr_flights\n",
    "by_year['Extreme Weather Delay'] = 100*by_year[' weather_ct']/by_year.arr_flights\n",
    "by_year['NAS Delay'] = 100*by_year.nas_ct/by_year.arr_flights\n",
    "by_year['Security Delay'] = 100*by_year.security_ct/by_year.arr_flights\n",
    "by_year['Aircraft Arriving Late'] = 100*by_year.late_aircraft_ct/by_year.arr_flights"
   ]
  },
  {
   "cell_type": "code",
   "execution_count": 77,
   "metadata": {
    "collapsed": false
   },
   "outputs": [],
   "source": [
    "by_year = by_year.iloc[:,[0,7,8,9,10,11]]"
   ]
  },
  {
   "cell_type": "code",
   "execution_count": 79,
   "metadata": {
    "collapsed": false
   },
   "outputs": [],
   "source": [
    "by_year = by_year.melt(id_vars=['year'], value_vars=['Air Carrier Delay', 'Extreme Weather Delay', 'NAS Delay',\n",
    "       'Security Delay', 'Aircraft Arriving Late'])"
   ]
  },
  {
   "cell_type": "code",
   "execution_count": 80,
   "metadata": {
    "collapsed": true
   },
   "outputs": [],
   "source": [
    "by_year.to_csv('by_year.csv')"
   ]
  }
 ],
 "metadata": {
  "hide_input": false,
  "kernelspec": {
   "display_name": "Python [default]",
   "language": "python",
   "name": "python3"
  },
  "language_info": {
   "codemirror_mode": {
    "name": "ipython",
    "version": 3
   },
   "file_extension": ".py",
   "mimetype": "text/x-python",
   "name": "python",
   "nbconvert_exporter": "python",
   "pygments_lexer": "ipython3",
   "version": "3.6.1"
  },
  "latex_envs": {
   "LaTeX_envs_menu_present": true,
   "autocomplete": true,
   "bibliofile": "biblio.bib",
   "cite_by": "apalike",
   "current_citInitial": 1,
   "eqLabelWithNumbers": true,
   "eqNumInitial": 1,
   "hotkeys": {
    "equation": "ctrl-q"
   },
   "labels_anchors": false,
   "latex_user_defs": false,
   "report_style_numbering": false,
   "user_envs_cfg": false
  },
  "toc": {
   "colors": {
    "hover_highlight": "#DAA520",
    "navigate_num": "#000000",
    "navigate_text": "#333333",
    "running_highlight": "#FF0000",
    "selected_highlight": "#FFD700",
    "sidebar_border": "#EEEEEE",
    "wrapper_background": "#FFFFFF"
   },
   "moveMenuLeft": true,
   "nav_menu": {
    "height": "12px",
    "width": "252px"
   },
   "navigate_menu": true,
   "number_sections": false,
   "sideBar": true,
   "threshold": "2",
   "toc_cell": false,
   "toc_section_display": "block",
   "toc_window_display": false,
   "widenNotebook": false
  },
  "varInspector": {
   "cols": {
    "lenName": 16,
    "lenType": 16,
    "lenVar": 40
   },
   "kernels_config": {
    "python": {
     "delete_cmd_postfix": "",
     "delete_cmd_prefix": "del ",
     "library": "var_list.py",
     "varRefreshCmd": "print(var_dic_list())"
    },
    "r": {
     "delete_cmd_postfix": ") ",
     "delete_cmd_prefix": "rm(",
     "library": "var_list.r",
     "varRefreshCmd": "cat(var_dic_list()) "
    }
   },
   "types_to_exclude": [
    "module",
    "function",
    "builtin_function_or_method",
    "instance",
    "_Feature"
   ],
   "window_display": false
  }
 },
 "nbformat": 4,
 "nbformat_minor": 2
}
