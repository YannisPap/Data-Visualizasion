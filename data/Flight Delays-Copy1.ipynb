{
 "cells": [
  {
   "cell_type": "code",
   "execution_count": 1,
   "metadata": {
    "collapsed": true,
    "deletable": true,
    "editable": true
   },
   "outputs": [],
   "source": [
    "import pandas as pd"
   ]
  },
  {
   "cell_type": "code",
   "execution_count": 2,
   "metadata": {
    "collapsed": true,
    "deletable": true,
    "editable": true
   },
   "outputs": [],
   "source": [
    "delays = pd.read_csv('flights.csv')\n",
    "\n",
    "delays = delays[[\n",
    "    'year', ' month', 'airport', 'arr_flights', 'carrier_ct', ' weather_ct', 'nas_ct',\n",
    "    'security_ct', 'late_aircraft_ct'\n",
    "]]\n",
    "delays = delays.rename(index=str, columns={' month': 'month'})"
   ]
  },
  {
   "cell_type": "code",
   "execution_count": 3,
   "metadata": {
    "collapsed": true,
    "deletable": true,
    "editable": true
   },
   "outputs": [],
   "source": [
    "delays['day'] = 1"
   ]
  },
  {
   "cell_type": "code",
   "execution_count": 4,
   "metadata": {
    "collapsed": false,
    "deletable": true,
    "editable": true
   },
   "outputs": [
    {
     "data": {
      "text/html": [
       "<div>\n",
       "<style>\n",
       "    .dataframe thead tr:only-child th {\n",
       "        text-align: right;\n",
       "    }\n",
       "\n",
       "    .dataframe thead th {\n",
       "        text-align: left;\n",
       "    }\n",
       "\n",
       "    .dataframe tbody tr th {\n",
       "        vertical-align: top;\n",
       "    }\n",
       "</style>\n",
       "<table border=\"1\" class=\"dataframe\">\n",
       "  <thead>\n",
       "    <tr style=\"text-align: right;\">\n",
       "      <th></th>\n",
       "      <th>year</th>\n",
       "      <th>month</th>\n",
       "      <th>airport</th>\n",
       "      <th>arr_flights</th>\n",
       "      <th>carrier_ct</th>\n",
       "      <th>weather_ct</th>\n",
       "      <th>nas_ct</th>\n",
       "      <th>security_ct</th>\n",
       "      <th>late_aircraft_ct</th>\n",
       "      <th>day</th>\n",
       "    </tr>\n",
       "  </thead>\n",
       "  <tbody>\n",
       "    <tr>\n",
       "      <th>0</th>\n",
       "      <td>2003</td>\n",
       "      <td>6</td>\n",
       "      <td>ATL</td>\n",
       "      <td>752.0</td>\n",
       "      <td>33.99</td>\n",
       "      <td>27.82</td>\n",
       "      <td>104.76</td>\n",
       "      <td>1.90</td>\n",
       "      <td>17.53</td>\n",
       "      <td>1</td>\n",
       "    </tr>\n",
       "    <tr>\n",
       "      <th>1</th>\n",
       "      <td>2003</td>\n",
       "      <td>6</td>\n",
       "      <td>BOS</td>\n",
       "      <td>1266.0</td>\n",
       "      <td>69.43</td>\n",
       "      <td>23.66</td>\n",
       "      <td>83.93</td>\n",
       "      <td>2.25</td>\n",
       "      <td>45.73</td>\n",
       "      <td>1</td>\n",
       "    </tr>\n",
       "    <tr>\n",
       "      <th>2</th>\n",
       "      <td>2003</td>\n",
       "      <td>6</td>\n",
       "      <td>BWI</td>\n",
       "      <td>593.0</td>\n",
       "      <td>17.56</td>\n",
       "      <td>20.49</td>\n",
       "      <td>38.26</td>\n",
       "      <td>0.00</td>\n",
       "      <td>24.69</td>\n",
       "      <td>1</td>\n",
       "    </tr>\n",
       "    <tr>\n",
       "      <th>3</th>\n",
       "      <td>2003</td>\n",
       "      <td>6</td>\n",
       "      <td>CLT</td>\n",
       "      <td>203.0</td>\n",
       "      <td>16.57</td>\n",
       "      <td>9.72</td>\n",
       "      <td>10.07</td>\n",
       "      <td>1.87</td>\n",
       "      <td>9.76</td>\n",
       "      <td>1</td>\n",
       "    </tr>\n",
       "    <tr>\n",
       "      <th>4</th>\n",
       "      <td>2003</td>\n",
       "      <td>6</td>\n",
       "      <td>DCA</td>\n",
       "      <td>947.0</td>\n",
       "      <td>42.88</td>\n",
       "      <td>24.89</td>\n",
       "      <td>52.71</td>\n",
       "      <td>0.08</td>\n",
       "      <td>26.44</td>\n",
       "      <td>1</td>\n",
       "    </tr>\n",
       "  </tbody>\n",
       "</table>\n",
       "</div>"
      ],
      "text/plain": [
       "   year  month airport  arr_flights  carrier_ct   weather_ct  nas_ct  \\\n",
       "0  2003      6     ATL        752.0       33.99        27.82  104.76   \n",
       "1  2003      6     BOS       1266.0       69.43        23.66   83.93   \n",
       "2  2003      6     BWI        593.0       17.56        20.49   38.26   \n",
       "3  2003      6     CLT        203.0       16.57         9.72   10.07   \n",
       "4  2003      6     DCA        947.0       42.88        24.89   52.71   \n",
       "\n",
       "   security_ct  late_aircraft_ct  day  \n",
       "0         1.90             17.53    1  \n",
       "1         2.25             45.73    1  \n",
       "2         0.00             24.69    1  \n",
       "3         1.87              9.76    1  \n",
       "4         0.08             26.44    1  "
      ]
     },
     "execution_count": 4,
     "metadata": {},
     "output_type": "execute_result"
    }
   ],
   "source": [
    "delays.head()"
   ]
  },
  {
   "cell_type": "code",
   "execution_count": 5,
   "metadata": {
    "collapsed": true,
    "deletable": true,
    "editable": true
   },
   "outputs": [],
   "source": [
    "delays['Date'] = pd.to_datetime(delays[['year', 'month', 'day']])\n",
    "delays = delays.drop(['year', 'month', 'day'], axis=1)"
   ]
  },
  {
   "cell_type": "code",
   "execution_count": 6,
   "metadata": {
    "collapsed": true,
    "deletable": true,
    "editable": true
   },
   "outputs": [],
   "source": [
    "causes = delays.copy()\n",
    "for i in range(2, 7):\n",
    "    causes.iloc[:, i] = 100 * causes.iloc[:, i] / causes['arr_flights']\n",
    "\n",
    "causes = causes.drop('arr_flights', axis=1)\n",
    "\n",
    "causes.columns = [\n",
    "    'Airport', 'Air Carrier Delay', 'Extreme Weather Delay',\n",
    "    'NAS Delay', 'Security Delay', 'Aircraft Arriving Late', 'Date'\n",
    "]\n",
    "\n",
    "causes = causes.melt(\n",
    "    id_vars=['Date', 'Airport'], var_name='Cause', value_name='Delays (%)')\n",
    "\n",
    "causes.to_csv('causes1.csv')"
   ]
  },
  {
   "cell_type": "code",
   "execution_count": 7,
   "metadata": {
    "collapsed": false,
    "deletable": true,
    "editable": true,
    "scrolled": true
   },
   "outputs": [
    {
     "data": {
      "text/html": [
       "<div>\n",
       "<style>\n",
       "    .dataframe thead tr:only-child th {\n",
       "        text-align: right;\n",
       "    }\n",
       "\n",
       "    .dataframe thead th {\n",
       "        text-align: left;\n",
       "    }\n",
       "\n",
       "    .dataframe tbody tr th {\n",
       "        vertical-align: top;\n",
       "    }\n",
       "</style>\n",
       "<table border=\"1\" class=\"dataframe\">\n",
       "  <thead>\n",
       "    <tr style=\"text-align: right;\">\n",
       "      <th></th>\n",
       "      <th>Date</th>\n",
       "      <th>Airport</th>\n",
       "      <th>Cause</th>\n",
       "      <th>Delays (%)</th>\n",
       "    </tr>\n",
       "  </thead>\n",
       "  <tbody>\n",
       "    <tr>\n",
       "      <th>0</th>\n",
       "      <td>2003-06-01</td>\n",
       "      <td>ATL</td>\n",
       "      <td>Air Carrier Delay</td>\n",
       "      <td>4.519947</td>\n",
       "    </tr>\n",
       "    <tr>\n",
       "      <th>1</th>\n",
       "      <td>2003-06-01</td>\n",
       "      <td>BOS</td>\n",
       "      <td>Air Carrier Delay</td>\n",
       "      <td>5.484202</td>\n",
       "    </tr>\n",
       "    <tr>\n",
       "      <th>2</th>\n",
       "      <td>2003-06-01</td>\n",
       "      <td>BWI</td>\n",
       "      <td>Air Carrier Delay</td>\n",
       "      <td>2.961214</td>\n",
       "    </tr>\n",
       "    <tr>\n",
       "      <th>3</th>\n",
       "      <td>2003-06-01</td>\n",
       "      <td>CLT</td>\n",
       "      <td>Air Carrier Delay</td>\n",
       "      <td>8.162562</td>\n",
       "    </tr>\n",
       "    <tr>\n",
       "      <th>4</th>\n",
       "      <td>2003-06-01</td>\n",
       "      <td>DCA</td>\n",
       "      <td>Air Carrier Delay</td>\n",
       "      <td>4.527983</td>\n",
       "    </tr>\n",
       "  </tbody>\n",
       "</table>\n",
       "</div>"
      ],
      "text/plain": [
       "        Date Airport              Cause  Delays (%)\n",
       "0 2003-06-01     ATL  Air Carrier Delay    4.519947\n",
       "1 2003-06-01     BOS  Air Carrier Delay    5.484202\n",
       "2 2003-06-01     BWI  Air Carrier Delay    2.961214\n",
       "3 2003-06-01     CLT  Air Carrier Delay    8.162562\n",
       "4 2003-06-01     DCA  Air Carrier Delay    4.527983"
      ]
     },
     "execution_count": 7,
     "metadata": {},
     "output_type": "execute_result"
    }
   ],
   "source": [
    "causes.head()"
   ]
  },
  {
   "cell_type": "code",
   "execution_count": 8,
   "metadata": {
    "collapsed": false,
    "deletable": true,
    "editable": true
   },
   "outputs": [
    {
     "data": {
      "text/html": [
       "<div>\n",
       "<style>\n",
       "    .dataframe thead tr:only-child th {\n",
       "        text-align: right;\n",
       "    }\n",
       "\n",
       "    .dataframe thead th {\n",
       "        text-align: left;\n",
       "    }\n",
       "\n",
       "    .dataframe tbody tr th {\n",
       "        vertical-align: top;\n",
       "    }\n",
       "</style>\n",
       "<table border=\"1\" class=\"dataframe\">\n",
       "  <thead>\n",
       "    <tr style=\"text-align: right;\">\n",
       "      <th></th>\n",
       "      <th>airport</th>\n",
       "      <th>arr_flights</th>\n",
       "      <th>carrier_ct</th>\n",
       "      <th>weather_ct</th>\n",
       "      <th>nas_ct</th>\n",
       "      <th>security_ct</th>\n",
       "      <th>late_aircraft_ct</th>\n",
       "      <th>Date</th>\n",
       "    </tr>\n",
       "  </thead>\n",
       "  <tbody>\n",
       "    <tr>\n",
       "      <th>0</th>\n",
       "      <td>ATL</td>\n",
       "      <td>752.0</td>\n",
       "      <td>33.99</td>\n",
       "      <td>27.82</td>\n",
       "      <td>104.76</td>\n",
       "      <td>1.90</td>\n",
       "      <td>17.53</td>\n",
       "      <td>2003-06-01</td>\n",
       "    </tr>\n",
       "    <tr>\n",
       "      <th>1</th>\n",
       "      <td>BOS</td>\n",
       "      <td>1266.0</td>\n",
       "      <td>69.43</td>\n",
       "      <td>23.66</td>\n",
       "      <td>83.93</td>\n",
       "      <td>2.25</td>\n",
       "      <td>45.73</td>\n",
       "      <td>2003-06-01</td>\n",
       "    </tr>\n",
       "    <tr>\n",
       "      <th>2</th>\n",
       "      <td>BWI</td>\n",
       "      <td>593.0</td>\n",
       "      <td>17.56</td>\n",
       "      <td>20.49</td>\n",
       "      <td>38.26</td>\n",
       "      <td>0.00</td>\n",
       "      <td>24.69</td>\n",
       "      <td>2003-06-01</td>\n",
       "    </tr>\n",
       "    <tr>\n",
       "      <th>3</th>\n",
       "      <td>CLT</td>\n",
       "      <td>203.0</td>\n",
       "      <td>16.57</td>\n",
       "      <td>9.72</td>\n",
       "      <td>10.07</td>\n",
       "      <td>1.87</td>\n",
       "      <td>9.76</td>\n",
       "      <td>2003-06-01</td>\n",
       "    </tr>\n",
       "    <tr>\n",
       "      <th>4</th>\n",
       "      <td>DCA</td>\n",
       "      <td>947.0</td>\n",
       "      <td>42.88</td>\n",
       "      <td>24.89</td>\n",
       "      <td>52.71</td>\n",
       "      <td>0.08</td>\n",
       "      <td>26.44</td>\n",
       "      <td>2003-06-01</td>\n",
       "    </tr>\n",
       "  </tbody>\n",
       "</table>\n",
       "</div>"
      ],
      "text/plain": [
       "  airport  arr_flights  carrier_ct   weather_ct  nas_ct  security_ct  \\\n",
       "0     ATL        752.0       33.99        27.82  104.76         1.90   \n",
       "1     BOS       1266.0       69.43        23.66   83.93         2.25   \n",
       "2     BWI        593.0       17.56        20.49   38.26         0.00   \n",
       "3     CLT        203.0       16.57         9.72   10.07         1.87   \n",
       "4     DCA        947.0       42.88        24.89   52.71         0.08   \n",
       "\n",
       "   late_aircraft_ct       Date  \n",
       "0             17.53 2003-06-01  \n",
       "1             45.73 2003-06-01  \n",
       "2             24.69 2003-06-01  \n",
       "3              9.76 2003-06-01  \n",
       "4             26.44 2003-06-01  "
      ]
     },
     "execution_count": 8,
     "metadata": {},
     "output_type": "execute_result"
    }
   ],
   "source": [
    "delays.head()"
   ]
  },
  {
   "cell_type": "code",
   "execution_count": 9,
   "metadata": {
    "collapsed": true,
    "deletable": true,
    "editable": true
   },
   "outputs": [],
   "source": [
    "total = delays.groupby(by='airport').sum().reset_index()\n",
    "\n",
    "for i in range(2, 7):\n",
    "    total.iloc[:, i] = 100 * total.iloc[:, i] / total['arr_flights']\n",
    "\n",
    "total = total.drop('arr_flights', axis=1)\n",
    "\n",
    "total.columns = [\n",
    "        'Airport', 'Air Carrier Delay', 'Extreme Weather Delay', 'NAS Delay',\n",
    "        'Security Delay', 'Aircraft Arriving Late'\n",
    "    ]\n",
    "\n",
    "total = total.melt(\n",
    "        id_vars='Airport', var_name='Cause', value_name='Delays (%)')\n",
    "\n",
    "total.to_csv('total1.csv')"
   ]
  }
 ],
 "metadata": {
  "hide_input": false,
  "kernelspec": {
   "display_name": "Python 3",
   "language": "python",
   "name": "python3"
  },
  "language_info": {
   "codemirror_mode": {
    "name": "ipython",
    "version": 3
   },
   "file_extension": ".py",
   "mimetype": "text/x-python",
   "name": "python",
   "nbconvert_exporter": "python",
   "pygments_lexer": "ipython3",
   "version": "3.6.1"
  },
  "latex_envs": {
   "LaTeX_envs_menu_present": true,
   "autocomplete": true,
   "bibliofile": "biblio.bib",
   "cite_by": "apalike",
   "current_citInitial": 1,
   "eqLabelWithNumbers": true,
   "eqNumInitial": 1,
   "hotkeys": {
    "equation": "ctrl-q"
   },
   "labels_anchors": false,
   "latex_user_defs": false,
   "report_style_numbering": false,
   "user_envs_cfg": false
  },
  "toc": {
   "colors": {
    "hover_highlight": "#DAA520",
    "navigate_num": "#000000",
    "navigate_text": "#333333",
    "running_highlight": "#FF0000",
    "selected_highlight": "#FFD700",
    "sidebar_border": "#EEEEEE",
    "wrapper_background": "#FFFFFF"
   },
   "moveMenuLeft": true,
   "nav_menu": {
    "height": "12px",
    "width": "252px"
   },
   "navigate_menu": true,
   "number_sections": false,
   "sideBar": true,
   "threshold": "2",
   "toc_cell": false,
   "toc_section_display": "block",
   "toc_window_display": false,
   "widenNotebook": false
  }
 },
 "nbformat": 4,
 "nbformat_minor": 2
}
