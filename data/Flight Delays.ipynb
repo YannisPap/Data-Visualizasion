{
 "cells": [
  {
   "cell_type": "code",
   "execution_count": 1,
   "metadata": {
    "collapsed": true,
    "deletable": true,
    "editable": true
   },
   "outputs": [],
   "source": [
    "import pandas as pd"
   ]
  },
  {
   "cell_type": "code",
   "execution_count": 2,
   "metadata": {
    "collapsed": false,
    "deletable": true,
    "editable": true
   },
   "outputs": [],
   "source": [
    "delays = pd.read_csv('flights.csv')\n",
    "\n",
    "delays = delays[[\n",
    "    'year', 'airport', 'arr_flights', 'carrier_ct', ' weather_ct', 'nas_ct',\n",
    "    'security_ct', 'late_aircraft_ct'\n",
    "]].groupby(by=['year', 'airport']).sum().reset_index()"
   ]
  },
  {
   "cell_type": "code",
   "execution_count": 3,
   "metadata": {
    "collapsed": false,
    "deletable": true,
    "editable": true
   },
   "outputs": [],
   "source": [
    "causes = delays.copy()\n",
    "for i in range(3, 8):\n",
    "    causes.iloc[:, i] = 100 * causes.iloc[:, i] / causes['arr_flights']\n",
    "\n",
    "causes = causes.drop('arr_flights', axis=1)\n",
    "\n",
    "causes.columns = [\n",
    "    'Year', 'Airport', 'Air Carrier Delay', 'Extreme Weather Delay',\n",
    "    'NAS Delay', 'Security Delay', 'Aircraft Arriving Late'\n",
    "]\n",
    "\n",
    "causes = causes.melt(\n",
    "    id_vars=['Year', 'Airport'], var_name='Cause', value_name='Delays (%)')\n",
    "\n",
    "causes.to_csv('causes.csv')"
   ]
  },
  {
   "cell_type": "code",
   "execution_count": 4,
   "metadata": {
    "collapsed": false,
    "deletable": true,
    "editable": true
   },
   "outputs": [],
   "source": [
    "total = delays.groupby(by='airport').sum().reset_index().drop('year', axis=1)\n",
    "\n",
    "for i in range(2, 7):\n",
    "    total.iloc[:, i] = 100 * total.iloc[:, i] / total['arr_flights']\n",
    "\n",
    "total = total.drop('arr_flights', axis=1)\n",
    "\n",
    "total.columns = [\n",
    "        'Airport', 'Air Carrier Delay', 'Extreme Weather Delay', 'NAS Delay',\n",
    "        'Security Delay', 'Aircraft Arriving Late'\n",
    "    ]\n",
    "\n",
    "total = total.melt(\n",
    "        id_vars='Airport', var_name='Cause', value_name='Delays (%)')\n",
    "\n",
    "total.to_csv('total.csv')"
   ]
  }
 ],
 "metadata": {
  "hide_input": false,
  "kernelspec": {
   "display_name": "Python 3",
   "language": "python",
   "name": "python3"
  },
  "language_info": {
   "codemirror_mode": {
    "name": "ipython",
    "version": 3
   },
   "file_extension": ".py",
   "mimetype": "text/x-python",
   "name": "python",
   "nbconvert_exporter": "python",
   "pygments_lexer": "ipython3",
   "version": "3.6.1"
  },
  "toc": {
   "colors": {
    "hover_highlight": "#DAA520",
    "navigate_num": "#000000",
    "navigate_text": "#333333",
    "running_highlight": "#FF0000",
    "selected_highlight": "#FFD700",
    "sidebar_border": "#EEEEEE",
    "wrapper_background": "#FFFFFF"
   },
   "moveMenuLeft": true,
   "nav_menu": {
    "height": "12px",
    "width": "252px"
   },
   "navigate_menu": true,
   "number_sections": false,
   "sideBar": true,
   "threshold": "2",
   "toc_cell": false,
   "toc_section_display": "block",
   "toc_window_display": false,
   "widenNotebook": false
  }
 },
 "nbformat": 4,
 "nbformat_minor": 2
}
